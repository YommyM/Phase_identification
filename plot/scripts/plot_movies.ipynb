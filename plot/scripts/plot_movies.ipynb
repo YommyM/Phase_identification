{
 "cells": [
  {
   "cell_type": "markdown",
   "metadata": {},
   "source": [
    "# Video for the first or last 1us"
   ]
  },
  {
   "cell_type": "code",
   "execution_count": 6,
   "metadata": {},
   "outputs": [
    {
     "name": "stdout",
     "output_type": "stream",
     "text": [
      "/data/gulab/yzdai/data4/phase_identification/phase_out/dpdo280k/0-1000/phaseplot/upper/\n",
      "1001 813\n",
      "Movie: /data/gulab/yzdai/data4/phase_identification/phase_out/dpdo280k/0-1000/dpdo280k-upper-0-1000_video.avi\n"
     ]
    }
   ],
   "source": [
    "import os\n",
    "from pathlib import Path\n",
    "import re\n",
    "import cv2\n",
    "\n",
    "# start = 8000\n",
    "start = 0\n",
    "\n",
    "leaflet = 'upper'\n",
    "\n",
    "# sys = '1j4n-dpdo280k'\n",
    "# sys = '1j4n-dpdochl280k'\n",
    "sys = 'dpdo280k'\n",
    "# sys = 'dpdo290k'\n",
    "# sys = 'dpdochl280k'\n",
    "# sys = 'dpdochl290k'\n",
    "image_folder = '/data/gulab/yzdai/data4/phase_identification/phase_out/'+sys+'/'+str(start)+'-'+str(start+1000)+'/phaseplot/'+leaflet+'/'\n",
    "print(image_folder)\n",
    "output_video = '/data/gulab/yzdai/data4/phase_identification/phase_out/'+sys+'/'+str(start)+'-'+str(start+1000)+'/'+sys+'-'+leaflet+'-'+str(start)+'-'+str(start+1000)+'_video.avi'\n",
    "\n",
    "images = [sys+'-'+str(i*5 + start)+'-'+leaflet+'.png' for i in range(200)]\n",
    "\n",
    "fps = 5  \n",
    "sorted_leaflet_file_paths = [image_folder+image for image in images]\n",
    "\n",
    "max_height, max_width = cv2.imread(sorted_leaflet_file_paths[0]).shape[:2]\n",
    "print(max_height, max_width)\n",
    "max_height, max_width = 1100, 1100\n",
    "\n",
    "fourcc = cv2.VideoWriter_fourcc(*'XVID') \n",
    "out = cv2.VideoWriter(output_video, fourcc, fps, (max_width, max_height))\n",
    "\n",
    "for img_path in sorted_leaflet_file_paths:\n",
    "    img = cv2.imread(img_path)\n",
    "    if img is None:\n",
    "        print('img none')\n",
    "        continue \n",
    "    h, w = img.shape[:2]\n",
    "    top = (max_height - h) // 2\n",
    "    bottom = max_height - h - top\n",
    "    left = (max_width - w) // 2\n",
    "    right = max_width - w - left\n",
    "\n",
    "    img_padded = cv2.copyMakeBorder(img, top, bottom, left, right, cv2.BORDER_CONSTANT, value=[255, 255, 255])\n",
    "\n",
    "    out.write(img_padded)\n",
    "\n",
    "out.release()\n",
    "cv2.destroyAllWindows()\n",
    "\n",
    "print(f\"Movie: {output_video}\")\n"
   ]
  },
  {
   "cell_type": "markdown",
   "metadata": {},
   "source": [
    "# Video for full trajectory"
   ]
  },
  {
   "cell_type": "code",
   "execution_count": 7,
   "metadata": {},
   "outputs": [
    {
     "name": "stdout",
     "output_type": "stream",
     "text": [
      "1000 813\n",
      "Movie: /data/gulab/yzdai/data4/phase_identification/phase_out/dpdochl280k/dpdochl280k_regi_video.avi\n"
     ]
    }
   ],
   "source": [
    "import os\n",
    "from pathlib import Path\n",
    "import re\n",
    "import cv2\n",
    "# sys = 'dpdo280k'\n",
    "sys = 'dpdochl280k'\n",
    "# sys = 'psmdopochl'\n",
    "\n",
    "leaflet = 'regi'\n",
    "# leaflet = 'upper'\n",
    "# leaflet = 'lower'\n",
    "\n",
    "root_dir = '/data/gulab/yzdai/data4/phase_identification/phase_out/'+sys\n",
    "\n",
    "output_video = root_dir + '/'+sys+'_'+leaflet+'_video.avi'\n",
    "\n",
    "pattern = re.compile(r'-(\\d+)\\.' if leaflet == 'regi' else r'-(\\d+)-')\n",
    "\n",
    "file_paths = []\n",
    "for subdir in sorted(Path(root_dir).iterdir()):\n",
    "    if subdir.is_dir():\n",
    "        leaflet_dir = subdir / 'phaseplot' / leaflet\n",
    "        if leaflet_dir.exists() and leaflet_dir.is_dir():\n",
    "            for file_path in leaflet_dir.iterdir():\n",
    "                if file_path.is_file() and file_path.suffix == '.png':\n",
    "                    file_paths.append(str(file_path))\n",
    "sorted_leaflet_file_paths = sorted(file_paths, key=lambda x: int(pattern.search(x).group(1)))\n",
    "\n",
    "fps = 30\n",
    "\n",
    "max_height, max_width = cv2.imread(sorted_leaflet_file_paths[-6]).shape[:2]\n",
    "print(max_height, max_width)\n",
    "max_height, max_width = 1100, 1100\n",
    "fourcc = cv2.VideoWriter_fourcc(*'XVID')\n",
    "out = cv2.VideoWriter(output_video, fourcc, fps, (max_width, max_height))\n",
    "\n",
    "for img_path in sorted_leaflet_file_paths:\n",
    "    img = cv2.imread(img_path)\n",
    "    if img is None:\n",
    "        print('img none')\n",
    "        continue  \n",
    "    h, w = img.shape[:2]\n",
    "    top = (max_height - h) // 2\n",
    "    bottom = max_height - h - top\n",
    "    left = (max_width - w) // 2\n",
    "    right = max_width - w - left\n",
    "\n",
    "    img_padded = cv2.copyMakeBorder(img, top, bottom, left, right, cv2.BORDER_CONSTANT, value=[255, 255, 255])\n",
    "\n",
    "    out.write(img_padded)\n",
    "\n",
    "\n",
    "out.release()\n",
    "cv2.destroyAllWindows()\n",
    "print(f\"Movie: {output_video}\")\n",
    "    "
   ]
  },
  {
   "cell_type": "markdown",
   "metadata": {},
   "source": [
    "# Video for the last 1 us Voronoi diagram"
   ]
  },
  {
   "cell_type": "code",
   "execution_count": 8,
   "metadata": {},
   "outputs": [
    {
     "name": "stdout",
     "output_type": "stream",
     "text": [
      "1952 1938\n",
      "Movie: /data/gulab/yzdai/data4/phase_identification/phase_out/dpdochl290k/8000-9000/dpdochl290k-voronoi_video.avi\n"
     ]
    }
   ],
   "source": [
    "import os\n",
    "from pathlib import Path\n",
    "import re\n",
    "import cv2\n",
    "\n",
    "start = 8000\n",
    "sys = 'dpdochl290k'\n",
    "\n",
    "# start = 9000\n",
    "# sys = 'dpdo290k'\n",
    "\n",
    "# start = 19000\n",
    "# sys = 'psmdopochl'\n",
    "\n",
    "leaflet = 'voronoi'\n",
    "image_folder = '/data/gulab/yzdai/data4/phase_identification/phase_out/'+sys+'/'+str(start)+'-'+str(start+1000)+'/phaseplot/'+leaflet+'/'\n",
    "output_video = '/data/gulab/yzdai/data4/phase_identification/phase_out/'+sys+'/'+str(start)+'-'+str(start+1000)+'/'+sys+'-'+leaflet+'_video.avi'  # 使用avi格式\n",
    "\n",
    "\n",
    "fps = 10 \n",
    "images = [sys+'-'+str(i*5 + start)+'.png' for i in range(200)]\n",
    "sorted_leaflet_file_paths = [image_folder+image for image in images]\n",
    "\n",
    "max_height, max_width = cv2.imread(sorted_leaflet_file_paths[0]).shape[:2]\n",
    "print(max_height, max_width)\n",
    "max_height, max_width = (2300,2300)\n",
    "fourcc = cv2.VideoWriter_fourcc(*'XVID') \n",
    "out = cv2.VideoWriter(output_video, fourcc, fps, (max_width, max_height))\n",
    "\n",
    "for img_path in sorted_leaflet_file_paths:\n",
    "    img = cv2.imread(img_path)\n",
    "    if img is None:\n",
    "        print('img none')\n",
    "        continue \n",
    "    h, w = img.shape[:2]\n",
    "    top = (max_height - h) // 2\n",
    "    bottom = max_height - h - top\n",
    "    left = (max_width - w) // 2\n",
    "    right = max_width - w - left\n",
    "\n",
    "    img_padded = cv2.copyMakeBorder(img, top, bottom, left, right, cv2.BORDER_CONSTANT, value=[255, 255, 255])\n",
    "\n",
    "    out.write(img_padded)\n",
    "\n",
    "out.release()\n",
    "cv2.destroyAllWindows()\n",
    "\n",
    "print(f\"Movie: {output_video}\")\n"
   ]
  }
 ],
 "metadata": {
  "kernelspec": {
   "display_name": "density",
   "language": "python",
   "name": "python3"
  },
  "language_info": {
   "codemirror_mode": {
    "name": "ipython",
    "version": 3
   },
   "file_extension": ".py",
   "mimetype": "text/x-python",
   "name": "python",
   "nbconvert_exporter": "python",
   "pygments_lexer": "ipython3",
   "version": "3.7.16"
  }
 },
 "nbformat": 4,
 "nbformat_minor": 2
}
